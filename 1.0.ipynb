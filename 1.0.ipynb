{
 "cells": [
  {
   "cell_type": "code",
   "execution_count": 1,
   "metadata": {},
   "outputs": [
    {
     "name": "stderr",
     "output_type": "stream",
     "text": [
      "/home/torres/anaconda3/lib/python3.6/site-packages/h5py/__init__.py:36: FutureWarning: Conversion of the second argument of issubdtype from `float` to `np.floating` is deprecated. In future, it will be treated as `np.float64 == np.dtype(float).type`.\n",
      "  from ._conv import register_converters as _register_converters\n"
     ]
    }
   ],
   "source": [
    "import numpy as np\n",
    "import tensorflow as tf\n",
    "import matplotlib.pyplot as plt\n",
    "import data_processing\n",
    "%matplotlib inline"
   ]
  },
  {
   "cell_type": "code",
   "execution_count": 2,
   "metadata": {},
   "outputs": [],
   "source": [
    "data = data_processing.load_data(download=False)\n",
    "new_data = data_processing.convertToOnehot(data)\n",
    "\n",
    "# prepare training data\n",
    "new_data = new_data.values.astype(np.float32) # change to numpy array and float32 [pandas to numpy(float 32)]\n",
    "np.random.shuffle(new_data)\n",
    "sep = int(0.7*len(new_data))\n",
    "train_data = new_data[:sep]\n",
    "test_data = new_data[sep:]"
   ]
  },
  {
   "cell_type": "code",
   "execution_count": 5,
   "metadata": {},
   "outputs": [],
   "source": [
    "# build network\n",
    "tf_input = tf.placeholder(tf.float32, [None, 25], \"input\")\n",
    "tfx = tf_input[:, :21]\n",
    "tfy = tf_input[:, 21:]\n",
    "\n",
    "l1 = tf.layers.dense(tfx, 128, tf.nn.relu, name=\"l1\")\n",
    "l2 = tf.layers.dense(l1, 128, tf.nn.relu, name=\"l2\")\n",
    "out = tf.layers.dense(l2, 4, name=\"l3\")\n",
    "prediction = tf.nn.softmax(out, name=\"pred\")\n",
    "\n",
    "# logits是没有经过softmax的prediction，tf会自动给你过一层softmax\n",
    "loss = tf.losses.softmax_cross_entropy(onehot_labels=tfy, logits=out)\n",
    "\n",
    "# argmax是为了找出tfy中每行数据对应的汽车状态和out中最有可能的汽车状态\n",
    "# tf.metrics.accuracy(...)[0]和[1]分别是什么？ [https://www.tensorflow.org/api_docs/python/tf/metrics/accuracy]\n",
    "# ==> accuracy: A Tensor representing the accuracy, the value of total divided by count.\n",
    "#     update_op: An operation that increments the total and count variables appropriately and whose value matches accuracy.\n",
    "accuracy = tf.metrics.accuracy(          # return (acc, update_op), and create 2 local variables\n",
    "    labels=tf.argmax(tfy, axis=1), predictions=tf.argmax(out, axis=1),)[1]\n",
    "\n",
    "opt = tf.train.GradientDescentOptimizer(learning_rate=0.1)\n",
    "train_op = opt.minimize(loss)\n",
    "\n",
    "sess = tf.Session()\n",
    "sess.run(tf.group(tf.global_variables_initializer(), tf.local_variables_initializer()))"
   ]
  },
  {
   "cell_type": "code",
   "execution_count": 6,
   "metadata": {},
   "outputs": [
    {
     "name": "stdout",
     "output_type": "stream",
     "text": [
      "Step: 0 | Accurate: 0.622351 | Loss: 1.29\n"
     ]
    },
    {
     "data": {
      "image/png": "[encoded data removed]",
      "text/plain": [
       "<matplotlib.figure.Figure at 0x7f8886a6e1d0>"
      ]
     },
     "metadata": {},
     "output_type": "display_data"
    },
    {
     "name": "stdout",
     "output_type": "stream",
     "text": [
      "Step: 50 | Accurate: 0.657996 | Loss: 0.61\n",
      "Step: 100 | Accurate: 0.719974 | Loss: 0.39\n",
      "Step: 150 | Accurate: 0.760597 | Loss: 0.29\n",
      "Step: 200 | Accurate: 0.789595 | Loss: 0.24\n",
      "Step: 250 | Accurate: 0.809570 | Loss: 0.21\n",
      "Step: 300 | Accurate: 0.828241 | Loss: 0.18\n",
      "Step: 350 | Accurate: 0.842967 | Loss: 0.17\n",
      "Step: 400 | Accurate: 0.853779 | Loss: 0.16\n",
      "Step: 450 | Accurate: 0.864547 | Loss: 0.13\n",
      "Step: 500 | Accurate: 0.873183 | Loss: 0.11\n",
      "Step: 550 | Accurate: 0.881663 | Loss: 0.10\n",
      "Step: 600 | Accurate: 0.887654 | Loss: 0.11\n",
      "Step: 650 | Accurate: 0.894027 | Loss: 0.08\n",
      "Step: 700 | Accurate: 0.899679 | Loss: 0.08\n",
      "Step: 750 | Accurate: 0.904745 | Loss: 0.07\n",
      "Step: 800 | Accurate: 0.908988 | Loss: 0.07\n",
      "Step: 850 | Accurate: 0.913081 | Loss: 0.06\n",
      "Step: 900 | Accurate: 0.916844 | Loss: 0.06\n",
      "Step: 950 | Accurate: 0.920135 | Loss: 0.06\n",
      "Step: 1000 | Accurate: 0.923296 | Loss: 0.06\n",
      "Step: 1050 | Accurate: 0.926169 | Loss: 0.05\n",
      "Step: 1100 | Accurate: 0.928877 | Loss: 0.05\n",
      "Step: 1150 | Accurate: 0.931118 | Loss: 0.05\n",
      "Step: 1200 | Accurate: 0.933410 | Loss: 0.04\n",
      "Step: 1250 | Accurate: 0.935379 | Loss: 0.04\n",
      "Step: 1300 | Accurate: 0.937201 | Loss: 0.04\n",
      "Step: 1350 | Accurate: 0.939100 | Loss: 0.04\n",
      "Step: 1400 | Accurate: 0.940735 | Loss: 0.04\n",
      "Step: 1450 | Accurate: 0.942453 | Loss: 0.03\n",
      "Step: 1500 | Accurate: 0.943937 | Loss: 0.03\n",
      "Step: 1550 | Accurate: 0.945328 | Loss: 0.03\n",
      "Step: 1600 | Accurate: 0.946809 | Loss: 0.03\n",
      "Step: 1650 | Accurate: 0.948034 | Loss: 0.03\n",
      "Step: 1700 | Accurate: 0.949188 | Loss: 0.03\n",
      "Step: 1750 | Accurate: 0.950492 | Loss: 0.03\n",
      "Step: 1800 | Accurate: 0.951570 | Loss: 0.03\n",
      "Step: 1850 | Accurate: 0.952591 | Loss: 0.03\n",
      "Step: 1900 | Accurate: 0.953560 | Loss: 0.03\n",
      "Step: 1950 | Accurate: 0.954576 | Loss: 0.02\n",
      "Step: 2000 | Accurate: 0.955590 | Loss: 0.02\n",
      "Step: 2050 | Accurate: 0.956418 | Loss: 0.02\n",
      "Step: 2100 | Accurate: 0.957297 | Loss: 0.02\n",
      "Step: 2150 | Accurate: 0.958136 | Loss: 0.02\n",
      "Step: 2200 | Accurate: 0.958810 | Loss: 0.02\n",
      "Step: 2250 | Accurate: 0.959538 | Loss: 0.02\n",
      "Step: 2300 | Accurate: 0.960357 | Loss: 0.02\n",
      "Step: 2350 | Accurate: 0.961023 | Loss: 0.02\n",
      "Step: 2400 | Accurate: 0.961700 | Loss: 0.02\n",
      "Step: 2450 | Accurate: 0.962312 | Loss: 0.02\n",
      "Step: 2500 | Accurate: 0.962900 | Loss: 0.02\n",
      "Step: 2550 | Accurate: 0.963502 | Loss: 0.02\n",
      "Step: 2600 | Accurate: 0.964118 | Loss: 0.02\n",
      "Step: 2650 | Accurate: 0.964711 | Loss: 0.02\n",
      "Step: 2700 | Accurate: 0.965283 | Loss: 0.02\n",
      "Step: 2750 | Accurate: 0.965800 | Loss: 0.02\n",
      "Step: 2800 | Accurate: 0.966332 | Loss: 0.02\n",
      "Step: 2850 | Accurate: 0.966813 | Loss: 0.02\n",
      "Step: 2900 | Accurate: 0.967310 | Loss: 0.02\n",
      "Step: 2950 | Accurate: 0.967726 | Loss: 0.02\n",
      "Step: 3000 | Accurate: 0.968192 | Loss: 0.02\n",
      "Step: 3050 | Accurate: 0.968643 | Loss: 0.02\n",
      "Step: 3100 | Accurate: 0.969049 | Loss: 0.02\n",
      "Step: 3150 | Accurate: 0.969473 | Loss: 0.02\n",
      "Step: 3200 | Accurate: 0.969883 | Loss: 0.02\n",
      "Step: 3250 | Accurate: 0.970252 | Loss: 0.02\n",
      "Step: 3300 | Accurate: 0.970609 | Loss: 0.02\n",
      "Step: 3350 | Accurate: 0.970985 | Loss: 0.02\n",
      "Step: 3400 | Accurate: 0.971350 | Loss: 0.02\n",
      "Step: 3450 | Accurate: 0.971704 | Loss: 0.02\n",
      "Step: 3500 | Accurate: 0.972048 | Loss: 0.02\n",
      "Step: 3550 | Accurate: 0.972410 | Loss: 0.01\n",
      "Step: 3600 | Accurate: 0.972735 | Loss: 0.01\n",
      "Step: 3650 | Accurate: 0.973051 | Loss: 0.01\n",
      "Step: 3700 | Accurate: 0.973385 | Loss: 0.01\n",
      "Step: 3750 | Accurate: 0.973684 | Loss: 0.01\n",
      "Step: 3800 | Accurate: 0.973976 | Loss: 0.01\n",
      "Step: 3850 | Accurate: 0.974285 | Loss: 0.01\n",
      "Step: 3900 | Accurate: 0.974586 | Loss: 0.01\n",
      "Step: 3950 | Accurate: 0.974855 | Loss: 0.01\n"
     ]
    }
   ],
   "source": [
    "# training\n",
    "plt.ion()\n",
    "fig, (ax1, ax2) = plt.subplots(1, 2, figsize=(8, 4))\n",
    "accuracies, steps = [], []\n",
    "for t in range(4000):\n",
    "    # training\n",
    "    batch_index = np.random.randint(len(train_data), size=32)\n",
    "    sess.run(train_op, {tf_input: train_data[batch_index]})\n",
    "\n",
    "    if t % 50 == 0:\n",
    "        # testing\n",
    "        acc_, pred_, loss_ = sess.run([accuracy, prediction, loss], {tf_input: test_data})\n",
    "        accuracies.append(acc_)\n",
    "        steps.append(t)\n",
    "        print(\"Step: %i\" % t,\"| Accurate: %.6f\" % acc_,\"| Loss: %.2f\" % loss_,)\n",
    "\n",
    "        # visualize testing\n",
    "        ax1.cla()\n",
    "        for c in range(4):\n",
    "            bp = ax1.bar(c+0.1, height=sum((np.argmax(pred_, axis=1) == c)), width=0.2, color='red')\n",
    "            bt = ax1.bar(c-0.1, height=sum((np.argmax(test_data[:, 21:], axis=1) == c)), width=0.2, color='blue')\n",
    "        ax1.set_xticks(range(4), [\"accepted\", \"good\", \"unaccepted\", \"very good\"])\n",
    "        ax1.legend(handles=[bp, bt], labels=[\"prediction\", \"target\"])\n",
    "        ax1.set_ylim((0, 400))\n",
    "        ax2.cla()\n",
    "        ax2.plot(steps, accuracies, label=\"accuracy\")\n",
    "        ax2.set_ylim(ymax=1)\n",
    "        ax2.set_ylabel(\"accuracy\")\n",
    "        plt.pause(0.01)\n",
    "\n",
    "plt.ioff()\n",
    "plt.show()"
   ]
  },
  {
   "cell_type": "code",
   "execution_count": null,
   "metadata": {},
   "outputs": [],
   "source": []
  }
 ],
 "metadata": {
  "kernelspec": {
   "display_name": "Python 3",
   "language": "python",
   "name": "python3"
  },
  "language_info": {
   "codemirror_mode": {
    "name": "ipython",
    "version": 3
   },
   "file_extension": ".py",
   "mimetype": "text/x-python",
   "name": "python",
   "nbconvert_exporter": "python",
   "pygments_lexer": "ipython3",
   "version": "3.6.4"
  }
 },
 "nbformat": 4,
 "nbformat_minor": 2
}
